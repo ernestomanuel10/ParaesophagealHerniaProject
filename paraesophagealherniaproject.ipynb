{
  "cells": [
    {
      "cell_type": "markdown",
      "metadata": {
        "id": "view-in-github",
        "colab_type": "text"
      },
      "source": [
        "<a href=\"https://colab.research.google.com/github/ernestomanuel10/ParaesophagealHerniaProject/blob/main/paraesophagealherniaproject.ipynb\" target=\"_parent\"><img src=\"https://colab.research.google.com/assets/colab-badge.svg\" alt=\"Open In Colab\"/></a>"
      ]
    },
    {
      "cell_type": "code",
      "execution_count": null,
      "metadata": {
        "colab": {
          "base_uri": "https://localhost:8080/",
          "height": 1000
        },
        "collapsed": true,
        "id": "fZmSZsMY5SFn",
        "outputId": "32ff2d28-ee41-426b-cf96-24b2a29aad96"
      },
      "outputs": [
        {
          "output_type": "stream",
          "name": "stdout",
          "text": [
            "Collecting TotalSegmentator\n",
            "  Downloading TotalSegmentator-2.9.0-py3-none-any.whl.metadata (906 bytes)\n",
            "Requirement already satisfied: torch>=2.1.2 in /usr/local/lib/python3.11/dist-packages (from TotalSegmentator) (2.6.0+cu124)\n",
            "Collecting numpy<2 (from TotalSegmentator)\n",
            "  Downloading numpy-1.26.4-cp311-cp311-manylinux_2_17_x86_64.manylinux2014_x86_64.whl.metadata (61 kB)\n",
            "\u001b[2K     \u001b[90m━━━━━━━━━━━━━━━━━━━━━━━━━━━━━━━━━━━━━━━━\u001b[0m \u001b[32m61.0/61.0 kB\u001b[0m \u001b[31m4.2 MB/s\u001b[0m eta \u001b[36m0:00:00\u001b[0m\n",
            "\u001b[?25hCollecting SimpleITK (from TotalSegmentator)\n",
            "  Downloading simpleitk-2.5.0-cp311-abi3-manylinux_2_17_x86_64.manylinux2014_x86_64.whl.metadata (7.2 kB)\n",
            "Requirement already satisfied: nibabel>=2.3.0 in /usr/local/lib/python3.11/dist-packages (from TotalSegmentator) (5.3.2)\n",
            "Requirement already satisfied: tqdm>=4.45.0 in /usr/local/lib/python3.11/dist-packages (from TotalSegmentator) (4.67.1)\n",
            "Collecting xvfbwrapper (from TotalSegmentator)\n",
            "  Downloading xvfbwrapper-0.2.13-py3-none-any.whl.metadata (5.7 kB)\n",
            "Collecting nnunetv2>=2.2.1 (from TotalSegmentator)\n",
            "  Downloading nnunetv2-2.6.2.tar.gz (211 kB)\n",
            "\u001b[2K     \u001b[90m━━━━━━━━━━━━━━━━━━━━━━━━━━━━━━━━━━━━━━\u001b[0m \u001b[32m211.5/211.5 kB\u001b[0m \u001b[31m17.1 MB/s\u001b[0m eta \u001b[36m0:00:00\u001b[0m\n",
            "\u001b[?25h  Installing build dependencies ... \u001b[?25l\u001b[?25hdone\n",
            "  Getting requirements to build wheel ... \u001b[?25l\u001b[?25hdone\n",
            "  Preparing metadata (pyproject.toml) ... \u001b[?25l\u001b[?25hdone\n",
            "Collecting dicom2nifti (from TotalSegmentator)\n",
            "  Downloading dicom2nifti-2.6.1-py3-none-any.whl.metadata (1.5 kB)\n",
            "Requirement already satisfied: pyarrow in /usr/local/lib/python3.11/dist-packages (from TotalSegmentator) (18.1.0)\n",
            "Requirement already satisfied: requests in /usr/local/lib/python3.11/dist-packages (from TotalSegmentator) (2.32.3)\n",
            "Requirement already satisfied: importlib-resources>=5.12 in /usr/local/lib/python3.11/dist-packages (from nibabel>=2.3.0->TotalSegmentator) (6.5.2)\n",
            "Requirement already satisfied: packaging>=20 in /usr/local/lib/python3.11/dist-packages (from nibabel>=2.3.0->TotalSegmentator) (24.2)\n",
            "Requirement already satisfied: typing-extensions>=4.6 in /usr/local/lib/python3.11/dist-packages (from nibabel>=2.3.0->TotalSegmentator) (4.13.2)\n",
            "Collecting acvl-utils<0.3,>=0.2.3 (from nnunetv2>=2.2.1->TotalSegmentator)\n",
            "  Downloading acvl_utils-0.2.5.tar.gz (29 kB)\n",
            "  Preparing metadata (setup.py) ... \u001b[?25l\u001b[?25hdone\n",
            "Collecting dynamic-network-architectures<0.5,>=0.4.1 (from nnunetv2>=2.2.1->TotalSegmentator)\n",
            "  Downloading dynamic_network_architectures-0.4.1.tar.gz (28 kB)\n",
            "  Preparing metadata (setup.py) ... \u001b[?25l\u001b[?25hdone\n",
            "Requirement already satisfied: scipy in /usr/local/lib/python3.11/dist-packages (from nnunetv2>=2.2.1->TotalSegmentator) (1.15.3)\n",
            "Collecting batchgenerators>=0.25.1 (from nnunetv2>=2.2.1->TotalSegmentator)\n",
            "  Downloading batchgenerators-0.25.1.tar.gz (76 kB)\n",
            "\u001b[2K     \u001b[90m━━━━━━━━━━━━━━━━━━━━━━━━━━━━━━━━━━━━━━━━\u001b[0m \u001b[32m77.0/77.0 kB\u001b[0m \u001b[31m6.3 MB/s\u001b[0m eta \u001b[36m0:00:00\u001b[0m\n",
            "\u001b[?25h  Preparing metadata (setup.py) ... \u001b[?25l\u001b[?25hdone\n",
            "Requirement already satisfied: scikit-learn in /usr/local/lib/python3.11/dist-packages (from nnunetv2>=2.2.1->TotalSegmentator) (1.6.1)\n",
            "Requirement already satisfied: scikit-image>=0.19.3 in /usr/local/lib/python3.11/dist-packages (from nnunetv2>=2.2.1->TotalSegmentator) (0.25.2)\n",
            "Requirement already satisfied: pandas in /usr/local/lib/python3.11/dist-packages (from nnunetv2>=2.2.1->TotalSegmentator) (2.2.2)\n",
            "Requirement already satisfied: graphviz in /usr/local/lib/python3.11/dist-packages (from nnunetv2>=2.2.1->TotalSegmentator) (0.20.3)\n",
            "Requirement already satisfied: tifffile in /usr/local/lib/python3.11/dist-packages (from nnunetv2>=2.2.1->TotalSegmentator) (2025.5.26)\n",
            "Requirement already satisfied: matplotlib in /usr/local/lib/python3.11/dist-packages (from nnunetv2>=2.2.1->TotalSegmentator) (3.10.0)\n",
            "Requirement already satisfied: seaborn in /usr/local/lib/python3.11/dist-packages (from nnunetv2>=2.2.1->TotalSegmentator) (0.13.2)\n",
            "Collecting imagecodecs (from nnunetv2>=2.2.1->TotalSegmentator)\n",
            "  Downloading imagecodecs-2025.3.30-cp311-cp311-manylinux_2_17_x86_64.manylinux2014_x86_64.whl.metadata (20 kB)\n",
            "Collecting yacs (from nnunetv2>=2.2.1->TotalSegmentator)\n",
            "  Downloading yacs-0.1.8-py3-none-any.whl.metadata (639 bytes)\n",
            "Collecting batchgeneratorsv2>=0.3.0 (from nnunetv2>=2.2.1->TotalSegmentator)\n",
            "  Downloading batchgeneratorsv2-0.3.0.tar.gz (44 kB)\n",
            "\u001b[2K     \u001b[90m━━━━━━━━━━━━━━━━━━━━━━━━━━━━━━━━━━━━━━━━\u001b[0m \u001b[32m44.8/44.8 kB\u001b[0m \u001b[31m3.4 MB/s\u001b[0m eta \u001b[36m0:00:00\u001b[0m\n",
            "\u001b[?25h  Installing build dependencies ... \u001b[?25l\u001b[?25hdone\n",
            "  Getting requirements to build wheel ... \u001b[?25l\u001b[?25hdone\n",
            "  Preparing metadata (pyproject.toml) ... \u001b[?25l\u001b[?25hdone\n",
            "Requirement already satisfied: einops in /usr/local/lib/python3.11/dist-packages (from nnunetv2>=2.2.1->TotalSegmentator) (0.8.1)\n",
            "Requirement already satisfied: blosc2>=3.0.0b1 in /usr/local/lib/python3.11/dist-packages (from nnunetv2>=2.2.1->TotalSegmentator) (3.3.4)\n",
            "Requirement already satisfied: filelock in /usr/local/lib/python3.11/dist-packages (from torch>=2.1.2->TotalSegmentator) (3.18.0)\n",
            "Requirement already satisfied: networkx in /usr/local/lib/python3.11/dist-packages (from torch>=2.1.2->TotalSegmentator) (3.5)\n",
            "Requirement already satisfied: jinja2 in /usr/local/lib/python3.11/dist-packages (from torch>=2.1.2->TotalSegmentator) (3.1.6)\n",
            "Requirement already satisfied: fsspec in /usr/local/lib/python3.11/dist-packages (from torch>=2.1.2->TotalSegmentator) (2025.3.2)\n",
            "Collecting nvidia-cuda-nvrtc-cu12==12.4.127 (from torch>=2.1.2->TotalSegmentator)\n",
            "  Downloading nvidia_cuda_nvrtc_cu12-12.4.127-py3-none-manylinux2014_x86_64.whl.metadata (1.5 kB)\n",
            "Collecting nvidia-cuda-runtime-cu12==12.4.127 (from torch>=2.1.2->TotalSegmentator)\n",
            "  Downloading nvidia_cuda_runtime_cu12-12.4.127-py3-none-manylinux2014_x86_64.whl.metadata (1.5 kB)\n",
            "Collecting nvidia-cuda-cupti-cu12==12.4.127 (from torch>=2.1.2->TotalSegmentator)\n",
            "  Downloading nvidia_cuda_cupti_cu12-12.4.127-py3-none-manylinux2014_x86_64.whl.metadata (1.6 kB)\n",
            "Collecting nvidia-cudnn-cu12==9.1.0.70 (from torch>=2.1.2->TotalSegmentator)\n",
            "  Downloading nvidia_cudnn_cu12-9.1.0.70-py3-none-manylinux2014_x86_64.whl.metadata (1.6 kB)\n",
            "Collecting nvidia-cublas-cu12==12.4.5.8 (from torch>=2.1.2->TotalSegmentator)\n",
            "  Downloading nvidia_cublas_cu12-12.4.5.8-py3-none-manylinux2014_x86_64.whl.metadata (1.5 kB)\n",
            "Collecting nvidia-cufft-cu12==11.2.1.3 (from torch>=2.1.2->TotalSegmentator)\n",
            "  Downloading nvidia_cufft_cu12-11.2.1.3-py3-none-manylinux2014_x86_64.whl.metadata (1.5 kB)\n",
            "Collecting nvidia-curand-cu12==10.3.5.147 (from torch>=2.1.2->TotalSegmentator)\n",
            "  Downloading nvidia_curand_cu12-10.3.5.147-py3-none-manylinux2014_x86_64.whl.metadata (1.5 kB)\n",
            "Collecting nvidia-cusolver-cu12==11.6.1.9 (from torch>=2.1.2->TotalSegmentator)\n",
            "  Downloading nvidia_cusolver_cu12-11.6.1.9-py3-none-manylinux2014_x86_64.whl.metadata (1.6 kB)\n",
            "Collecting nvidia-cusparse-cu12==12.3.1.170 (from torch>=2.1.2->TotalSegmentator)\n",
            "  Downloading nvidia_cusparse_cu12-12.3.1.170-py3-none-manylinux2014_x86_64.whl.metadata (1.6 kB)\n",
            "Requirement already satisfied: nvidia-cusparselt-cu12==0.6.2 in /usr/local/lib/python3.11/dist-packages (from torch>=2.1.2->TotalSegmentator) (0.6.2)\n",
            "Requirement already satisfied: nvidia-nccl-cu12==2.21.5 in /usr/local/lib/python3.11/dist-packages (from torch>=2.1.2->TotalSegmentator) (2.21.5)\n",
            "Requirement already satisfied: nvidia-nvtx-cu12==12.4.127 in /usr/local/lib/python3.11/dist-packages (from torch>=2.1.2->TotalSegmentator) (12.4.127)\n",
            "Collecting nvidia-nvjitlink-cu12==12.4.127 (from torch>=2.1.2->TotalSegmentator)\n",
            "  Downloading nvidia_nvjitlink_cu12-12.4.127-py3-none-manylinux2014_x86_64.whl.metadata (1.5 kB)\n",
            "Requirement already satisfied: triton==3.2.0 in /usr/local/lib/python3.11/dist-packages (from torch>=2.1.2->TotalSegmentator) (3.2.0)\n",
            "Requirement already satisfied: sympy==1.13.1 in /usr/local/lib/python3.11/dist-packages (from torch>=2.1.2->TotalSegmentator) (1.13.1)\n",
            "Requirement already satisfied: mpmath<1.4,>=1.1.0 in /usr/local/lib/python3.11/dist-packages (from sympy==1.13.1->torch>=2.1.2->TotalSegmentator) (1.3.0)\n",
            "Collecting pydicom>=3.0.0 (from dicom2nifti->TotalSegmentator)\n",
            "  Downloading pydicom-3.0.1-py3-none-any.whl.metadata (9.4 kB)\n",
            "Collecting python-gdcm (from dicom2nifti->TotalSegmentator)\n",
            "  Downloading python_gdcm-3.0.25-cp311-cp311-manylinux_2_17_x86_64.manylinux2014_x86_64.whl.metadata (3.8 kB)\n",
            "Requirement already satisfied: charset-normalizer<4,>=2 in /usr/local/lib/python3.11/dist-packages (from requests->TotalSegmentator) (3.4.2)\n",
            "Requirement already satisfied: idna<4,>=2.5 in /usr/local/lib/python3.11/dist-packages (from requests->TotalSegmentator) (3.10)\n",
            "Requirement already satisfied: urllib3<3,>=1.21.1 in /usr/local/lib/python3.11/dist-packages (from requests->TotalSegmentator) (2.4.0)\n",
            "Requirement already satisfied: certifi>=2017.4.17 in /usr/local/lib/python3.11/dist-packages (from requests->TotalSegmentator) (2025.4.26)\n",
            "Collecting connected-components-3d (from acvl-utils<0.3,>=0.2.3->nnunetv2>=2.2.1->TotalSegmentator)\n",
            "  Downloading connected_components_3d-3.23.0-cp311-cp311-manylinux_2_17_x86_64.manylinux2014_x86_64.whl.metadata (32 kB)\n",
            "Requirement already satisfied: pillow>=7.1.2 in /usr/local/lib/python3.11/dist-packages (from batchgenerators>=0.25.1->nnunetv2>=2.2.1->TotalSegmentator) (11.2.1)\n",
            "Requirement already satisfied: future in /usr/local/lib/python3.11/dist-packages (from batchgenerators>=0.25.1->nnunetv2>=2.2.1->TotalSegmentator) (1.0.0)\n",
            "Collecting unittest2 (from batchgenerators>=0.25.1->nnunetv2>=2.2.1->TotalSegmentator)\n",
            "  Downloading unittest2-1.1.0-py2.py3-none-any.whl.metadata (15 kB)\n",
            "Requirement already satisfied: threadpoolctl in /usr/local/lib/python3.11/dist-packages (from batchgenerators>=0.25.1->nnunetv2>=2.2.1->TotalSegmentator) (3.6.0)\n",
            "Collecting fft-conv-pytorch (from batchgeneratorsv2>=0.3.0->nnunetv2>=2.2.1->TotalSegmentator)\n",
            "  Downloading fft_conv_pytorch-1.2.0-py3-none-any.whl.metadata (2.8 kB)\n",
            "Requirement already satisfied: ndindex in /usr/local/lib/python3.11/dist-packages (from blosc2>=3.0.0b1->nnunetv2>=2.2.1->TotalSegmentator) (1.10.0)\n",
            "Requirement already satisfied: msgpack in /usr/local/lib/python3.11/dist-packages (from blosc2>=3.0.0b1->nnunetv2>=2.2.1->TotalSegmentator) (1.1.0)\n",
            "Requirement already satisfied: platformdirs in /usr/local/lib/python3.11/dist-packages (from blosc2>=3.0.0b1->nnunetv2>=2.2.1->TotalSegmentator) (4.3.8)\n",
            "Requirement already satisfied: numexpr in /usr/local/lib/python3.11/dist-packages (from blosc2>=3.0.0b1->nnunetv2>=2.2.1->TotalSegmentator) (2.10.2)\n",
            "Requirement already satisfied: py-cpuinfo in /usr/local/lib/python3.11/dist-packages (from blosc2>=3.0.0b1->nnunetv2>=2.2.1->TotalSegmentator) (9.0.0)\n",
            "Requirement already satisfied: timm in /usr/local/lib/python3.11/dist-packages (from dynamic-network-architectures<0.5,>=0.4.1->nnunetv2>=2.2.1->TotalSegmentator) (1.0.15)\n",
            "Requirement already satisfied: imageio!=2.35.0,>=2.33 in /usr/local/lib/python3.11/dist-packages (from scikit-image>=0.19.3->nnunetv2>=2.2.1->TotalSegmentator) (2.37.0)\n",
            "Requirement already satisfied: lazy-loader>=0.4 in /usr/local/lib/python3.11/dist-packages (from scikit-image>=0.19.3->nnunetv2>=2.2.1->TotalSegmentator) (0.4)\n",
            "Requirement already satisfied: MarkupSafe>=2.0 in /usr/local/lib/python3.11/dist-packages (from jinja2->torch>=2.1.2->TotalSegmentator) (3.0.2)\n",
            "Requirement already satisfied: contourpy>=1.0.1 in /usr/local/lib/python3.11/dist-packages (from matplotlib->nnunetv2>=2.2.1->TotalSegmentator) (1.3.2)\n",
            "Requirement already satisfied: cycler>=0.10 in /usr/local/lib/python3.11/dist-packages (from matplotlib->nnunetv2>=2.2.1->TotalSegmentator) (0.12.1)\n",
            "Requirement already satisfied: fonttools>=4.22.0 in /usr/local/lib/python3.11/dist-packages (from matplotlib->nnunetv2>=2.2.1->TotalSegmentator) (4.58.1)\n",
            "Requirement already satisfied: kiwisolver>=1.3.1 in /usr/local/lib/python3.11/dist-packages (from matplotlib->nnunetv2>=2.2.1->TotalSegmentator) (1.4.8)\n",
            "Requirement already satisfied: pyparsing>=2.3.1 in /usr/local/lib/python3.11/dist-packages (from matplotlib->nnunetv2>=2.2.1->TotalSegmentator) (3.2.3)\n",
            "Requirement already satisfied: python-dateutil>=2.7 in /usr/local/lib/python3.11/dist-packages (from matplotlib->nnunetv2>=2.2.1->TotalSegmentator) (2.9.0.post0)\n",
            "Requirement already satisfied: pytz>=2020.1 in /usr/local/lib/python3.11/dist-packages (from pandas->nnunetv2>=2.2.1->TotalSegmentator) (2025.2)\n",
            "Requirement already satisfied: tzdata>=2022.7 in /usr/local/lib/python3.11/dist-packages (from pandas->nnunetv2>=2.2.1->TotalSegmentator) (2025.2)\n",
            "Requirement already satisfied: joblib>=1.2.0 in /usr/local/lib/python3.11/dist-packages (from scikit-learn->nnunetv2>=2.2.1->TotalSegmentator) (1.5.1)\n",
            "Requirement already satisfied: PyYAML in /usr/local/lib/python3.11/dist-packages (from yacs->nnunetv2>=2.2.1->TotalSegmentator) (6.0.2)\n",
            "Requirement already satisfied: six>=1.5 in /usr/local/lib/python3.11/dist-packages (from python-dateutil>=2.7->matplotlib->nnunetv2>=2.2.1->TotalSegmentator) (1.17.0)\n",
            "Requirement already satisfied: torchvision in /usr/local/lib/python3.11/dist-packages (from timm->dynamic-network-architectures<0.5,>=0.4.1->nnunetv2>=2.2.1->TotalSegmentator) (0.21.0+cu124)\n",
            "Requirement already satisfied: huggingface_hub in /usr/local/lib/python3.11/dist-packages (from timm->dynamic-network-architectures<0.5,>=0.4.1->nnunetv2>=2.2.1->TotalSegmentator) (0.32.2)\n",
            "Requirement already satisfied: safetensors in /usr/local/lib/python3.11/dist-packages (from timm->dynamic-network-architectures<0.5,>=0.4.1->nnunetv2>=2.2.1->TotalSegmentator) (0.5.3)\n",
            "Collecting argparse (from unittest2->batchgenerators>=0.25.1->nnunetv2>=2.2.1->TotalSegmentator)\n",
            "  Downloading argparse-1.4.0-py2.py3-none-any.whl.metadata (2.8 kB)\n",
            "Collecting traceback2 (from unittest2->batchgenerators>=0.25.1->nnunetv2>=2.2.1->TotalSegmentator)\n",
            "  Downloading traceback2-1.4.0-py2.py3-none-any.whl.metadata (1.5 kB)\n",
            "Requirement already satisfied: hf-xet<2.0.0,>=1.1.2 in /usr/local/lib/python3.11/dist-packages (from huggingface_hub->timm->dynamic-network-architectures<0.5,>=0.4.1->nnunetv2>=2.2.1->TotalSegmentator) (1.1.2)\n",
            "Collecting linecache2 (from traceback2->unittest2->batchgenerators>=0.25.1->nnunetv2>=2.2.1->TotalSegmentator)\n",
            "  Downloading linecache2-1.0.0-py2.py3-none-any.whl.metadata (1000 bytes)\n",
            "Downloading TotalSegmentator-2.9.0-py3-none-any.whl (1.6 MB)\n",
            "\u001b[2K   \u001b[90m━━━━━━━━━━━━━━━━━━━━━━━━━━━━━━━━━━━━━━━━\u001b[0m \u001b[32m1.6/1.6 MB\u001b[0m \u001b[31m45.3 MB/s\u001b[0m eta \u001b[36m0:00:00\u001b[0m\n",
            "\u001b[?25hDownloading numpy-1.26.4-cp311-cp311-manylinux_2_17_x86_64.manylinux2014_x86_64.whl (18.3 MB)\n",
            "\u001b[2K   \u001b[90m━━━━━━━━━━━━━━━━━━━━━━━━━━━━━━━━━━━━━━━━\u001b[0m \u001b[32m18.3/18.3 MB\u001b[0m \u001b[31m61.6 MB/s\u001b[0m eta \u001b[36m0:00:00\u001b[0m\n",
            "\u001b[?25hDownloading simpleitk-2.5.0-cp311-abi3-manylinux_2_17_x86_64.manylinux2014_x86_64.whl (52.6 MB)\n",
            "\u001b[2K   \u001b[90m━━━━━━━━━━━━━━━━━━━━━━━━━━━━━━━━━━━━━━━━\u001b[0m \u001b[32m52.6/52.6 MB\u001b[0m \u001b[31m16.9 MB/s\u001b[0m eta \u001b[36m0:00:00\u001b[0m\n",
            "\u001b[?25hDownloading nvidia_cublas_cu12-12.4.5.8-py3-none-manylinux2014_x86_64.whl (363.4 MB)\n",
            "\u001b[2K   \u001b[90m━━━━━━━━━━━━━━━━━━━━━━━━━━━━━━━━━━━━━━━━\u001b[0m \u001b[32m363.4/363.4 MB\u001b[0m \u001b[31m4.3 MB/s\u001b[0m eta \u001b[36m0:00:00\u001b[0m\n",
            "\u001b[?25hDownloading nvidia_cuda_cupti_cu12-12.4.127-py3-none-manylinux2014_x86_64.whl (13.8 MB)\n",
            "\u001b[2K   \u001b[90m━━━━━━━━━━━━━━━━━━━━━━━━━━━━━━━━━━━━━━━━\u001b[0m \u001b[32m13.8/13.8 MB\u001b[0m \u001b[31m61.9 MB/s\u001b[0m eta \u001b[36m0:00:00\u001b[0m\n",
            "\u001b[?25hDownloading nvidia_cuda_nvrtc_cu12-12.4.127-py3-none-manylinux2014_x86_64.whl (24.6 MB)\n",
            "\u001b[2K   \u001b[90m━━━━━━━━━━━━━━━━━━━━━━━━━━━━━━━━━━━━━━━━\u001b[0m \u001b[32m24.6/24.6 MB\u001b[0m \u001b[31m35.0 MB/s\u001b[0m eta \u001b[36m0:00:00\u001b[0m\n",
            "\u001b[?25hDownloading nvidia_cuda_runtime_cu12-12.4.127-py3-none-manylinux2014_x86_64.whl (883 kB)\n",
            "\u001b[2K   \u001b[90m━━━━━━━━━━━━━━━━━━━━━━━━━━━━━━━━━━━━━━━━\u001b[0m \u001b[32m883.7/883.7 kB\u001b[0m \u001b[31m41.5 MB/s\u001b[0m eta \u001b[36m0:00:00\u001b[0m\n",
            "\u001b[?25hDownloading nvidia_cudnn_cu12-9.1.0.70-py3-none-manylinux2014_x86_64.whl (664.8 MB)\n",
            "\u001b[2K   \u001b[90m━━━━━━━━━━━━━━━━━━━━━━━━━━━━━━━━━━━━━━━━\u001b[0m \u001b[32m664.8/664.8 MB\u001b[0m \u001b[31m1.4 MB/s\u001b[0m eta \u001b[36m0:00:00\u001b[0m\n",
            "\u001b[?25hDownloading nvidia_cufft_cu12-11.2.1.3-py3-none-manylinux2014_x86_64.whl (211.5 MB)\n",
            "\u001b[2K   \u001b[90m━━━━━━━━━━━━━━━━━━━━━━━━━━━━━━━━━━━━━━━━\u001b[0m \u001b[32m211.5/211.5 MB\u001b[0m \u001b[31m5.6 MB/s\u001b[0m eta \u001b[36m0:00:00\u001b[0m\n",
            "\u001b[?25hDownloading nvidia_curand_cu12-10.3.5.147-py3-none-manylinux2014_x86_64.whl (56.3 MB)\n",
            "\u001b[2K   \u001b[90m━━━━━━━━━━━━━━━━━━━━━━━━━━━━━━━━━━━━━━━━\u001b[0m \u001b[32m56.3/56.3 MB\u001b[0m \u001b[31m10.7 MB/s\u001b[0m eta \u001b[36m0:00:00\u001b[0m\n",
            "\u001b[?25hDownloading nvidia_cusolver_cu12-11.6.1.9-py3-none-manylinux2014_x86_64.whl (127.9 MB)\n",
            "\u001b[2K   \u001b[90m━━━━━━━━━━━━━━━━━━━━━━━━━━━━━━━━━━━━━━━━\u001b[0m \u001b[32m127.9/127.9 MB\u001b[0m \u001b[31m7.2 MB/s\u001b[0m eta \u001b[36m0:00:00\u001b[0m\n",
            "\u001b[?25hDownloading nvidia_cusparse_cu12-12.3.1.170-py3-none-manylinux2014_x86_64.whl (207.5 MB)\n",
            "\u001b[2K   \u001b[90m━━━━━━━━━━━━━━━━━━━━━━━━━━━━━━━━━━━━━━━━\u001b[0m \u001b[32m207.5/207.5 MB\u001b[0m \u001b[31m5.8 MB/s\u001b[0m eta \u001b[36m0:00:00\u001b[0m\n",
            "\u001b[?25hDownloading nvidia_nvjitlink_cu12-12.4.127-py3-none-manylinux2014_x86_64.whl (21.1 MB)\n",
            "\u001b[2K   \u001b[90m━━━━━━━━━━━━━━━━━━━━━━━━━━━━━━━━━━━━━━━━\u001b[0m \u001b[32m21.1/21.1 MB\u001b[0m \u001b[31m90.5 MB/s\u001b[0m eta \u001b[36m0:00:00\u001b[0m\n",
            "\u001b[?25hDownloading dicom2nifti-2.6.1-py3-none-any.whl (43 kB)\n",
            "\u001b[2K   \u001b[90m━━━━━━━━━━━━━━━━━━━━━━━━━━━━━━━━━━━━━━━━\u001b[0m \u001b[32m43.6/43.6 kB\u001b[0m \u001b[31m3.2 MB/s\u001b[0m eta \u001b[36m0:00:00\u001b[0m\n",
            "\u001b[?25hDownloading xvfbwrapper-0.2.13-py3-none-any.whl (5.9 kB)\n",
            "Downloading pydicom-3.0.1-py3-none-any.whl (2.4 MB)\n",
            "\u001b[2K   \u001b[90m━━━━━━━━━━━━━━━━━━━━━━━━━━━━━━━━━━━━━━━━\u001b[0m \u001b[32m2.4/2.4 MB\u001b[0m \u001b[31m77.1 MB/s\u001b[0m eta \u001b[36m0:00:00\u001b[0m\n",
            "\u001b[?25hDownloading imagecodecs-2025.3.30-cp311-cp311-manylinux_2_17_x86_64.manylinux2014_x86_64.whl (45.6 MB)\n",
            "\u001b[2K   \u001b[90m━━━━━━━━━━━━━━━━━━━━━━━━━━━━━━━━━━━━━━━━\u001b[0m \u001b[32m45.6/45.6 MB\u001b[0m \u001b[31m13.4 MB/s\u001b[0m eta \u001b[36m0:00:00\u001b[0m\n",
            "\u001b[?25hDownloading python_gdcm-3.0.25-cp311-cp311-manylinux_2_17_x86_64.manylinux2014_x86_64.whl (12.4 MB)\n",
            "\u001b[2K   \u001b[90m━━━━━━━━━━━━━━━━━━━━━━━━━━━━━━━━━━━━━━━━\u001b[0m \u001b[32m12.4/12.4 MB\u001b[0m \u001b[31m103.0 MB/s\u001b[0m eta \u001b[36m0:00:00\u001b[0m\n",
            "\u001b[?25hDownloading yacs-0.1.8-py3-none-any.whl (14 kB)\n",
            "Downloading connected_components_3d-3.23.0-cp311-cp311-manylinux_2_17_x86_64.manylinux2014_x86_64.whl (4.3 MB)\n",
            "\u001b[2K   \u001b[90m━━━━━━━━━━━━━━━━━━━━━━━━━━━━━━━━━━━━━━━━\u001b[0m \u001b[32m4.3/4.3 MB\u001b[0m \u001b[31m87.5 MB/s\u001b[0m eta \u001b[36m0:00:00\u001b[0m\n",
            "\u001b[?25hDownloading fft_conv_pytorch-1.2.0-py3-none-any.whl (6.8 kB)\n",
            "Downloading unittest2-1.1.0-py2.py3-none-any.whl (96 kB)\n",
            "\u001b[2K   \u001b[90m━━━━━━━━━━━━━━━━━━━━━━━━━━━━━━━━━━━━━━━━\u001b[0m \u001b[32m96.4/96.4 kB\u001b[0m \u001b[31m7.8 MB/s\u001b[0m eta \u001b[36m0:00:00\u001b[0m\n",
            "\u001b[?25hDownloading argparse-1.4.0-py2.py3-none-any.whl (23 kB)\n",
            "Downloading traceback2-1.4.0-py2.py3-none-any.whl (16 kB)\n",
            "Downloading linecache2-1.0.0-py2.py3-none-any.whl (12 kB)\n",
            "Building wheels for collected packages: nnunetv2, acvl-utils, batchgenerators, batchgeneratorsv2, dynamic-network-architectures\n",
            "  Building wheel for nnunetv2 (pyproject.toml) ... \u001b[?25l\u001b[?25hdone\n",
            "  Created wheel for nnunetv2: filename=nnunetv2-2.6.2-py3-none-any.whl size=285890 sha256=af178dce3a355a637cfc9dcac2c77dd6fdc78f2f0a21581ada5782f0c97f8a94\n",
            "  Stored in directory: /root/.cache/pip/wheels/99/ec/d2/0fb1be0015c40f2dc99535af585e41e876dd2b369039d9385b\n",
            "  Building wheel for acvl-utils (setup.py) ... \u001b[?25l\u001b[?25hdone\n",
            "  Created wheel for acvl-utils: filename=acvl_utils-0.2.5-py3-none-any.whl size=27213 sha256=6f1a9f10dd7b84ffcf039cff0b9f1c5e189fa6c51e3359a1b58ae7dfb57bc9d3\n",
            "  Stored in directory: /root/.cache/pip/wheels/3f/8c/10/dcba79e0b2d1d463605233cec1fc6cfad47af5230b8985e464\n",
            "  Building wheel for batchgenerators (setup.py) ... \u001b[?25l\u001b[?25hdone\n",
            "  Created wheel for batchgenerators: filename=batchgenerators-0.25.1-py3-none-any.whl size=93088 sha256=87f6dd274eb8813f91b2a57bf14a7850a982d6c26fe00f8a98806b00b815e31d\n",
            "  Stored in directory: /root/.cache/pip/wheels/56/11/c7/fadca30e054c602093ffe36ba8a2f0a87dd2f86ac75191d3ed\n",
            "  Building wheel for batchgeneratorsv2 (pyproject.toml) ... \u001b[?25l\u001b[?25hdone\n",
            "  Created wheel for batchgeneratorsv2: filename=batchgeneratorsv2-0.3.0-py3-none-any.whl size=65215 sha256=5077c14b08ec72f1f200a1fee55420085a72fa1d932adffbd463c3549bfbb81a\n",
            "  Stored in directory: /root/.cache/pip/wheels/c0/c1/8f/94ca60255dbbadf27e1da4885002a6943c95b067b8e2dd39ea\n",
            "  Building wheel for dynamic-network-architectures (setup.py) ... \u001b[?25l\u001b[?25hdone\n",
            "  Created wheel for dynamic-network-architectures: filename=dynamic_network_architectures-0.4.1-py3-none-any.whl size=39016 sha256=da03bdbe0736ad06883d2fc7b1b7ac2e0cd19f3d36aed64215a127d3341ddff7\n",
            "  Stored in directory: /root/.cache/pip/wheels/41/6c/b8/690b97a6ea5b63e698d0efd0fd8842ae4f45657cd32b83bed4\n",
            "Successfully built nnunetv2 acvl-utils batchgenerators batchgeneratorsv2 dynamic-network-architectures\n",
            "Installing collected packages: SimpleITK, linecache2, argparse, yacs, xvfbwrapper, traceback2, python-gdcm, pydicom, nvidia-nvjitlink-cu12, nvidia-curand-cu12, nvidia-cufft-cu12, nvidia-cuda-runtime-cu12, nvidia-cuda-nvrtc-cu12, nvidia-cuda-cupti-cu12, nvidia-cublas-cu12, numpy, unittest2, nvidia-cusparse-cu12, nvidia-cudnn-cu12, imagecodecs, connected-components-3d, nvidia-cusolver-cu12, dicom2nifti, batchgenerators, fft-conv-pytorch, acvl-utils, batchgeneratorsv2, dynamic-network-architectures, nnunetv2, TotalSegmentator\n",
            "  Attempting uninstall: nvidia-nvjitlink-cu12\n",
            "    Found existing installation: nvidia-nvjitlink-cu12 12.5.82\n",
            "    Uninstalling nvidia-nvjitlink-cu12-12.5.82:\n",
            "      Successfully uninstalled nvidia-nvjitlink-cu12-12.5.82\n",
            "  Attempting uninstall: nvidia-curand-cu12\n",
            "    Found existing installation: nvidia-curand-cu12 10.3.6.82\n",
            "    Uninstalling nvidia-curand-cu12-10.3.6.82:\n",
            "      Successfully uninstalled nvidia-curand-cu12-10.3.6.82\n",
            "  Attempting uninstall: nvidia-cufft-cu12\n",
            "    Found existing installation: nvidia-cufft-cu12 11.2.3.61\n",
            "    Uninstalling nvidia-cufft-cu12-11.2.3.61:\n",
            "      Successfully uninstalled nvidia-cufft-cu12-11.2.3.61\n",
            "  Attempting uninstall: nvidia-cuda-runtime-cu12\n",
            "    Found existing installation: nvidia-cuda-runtime-cu12 12.5.82\n",
            "    Uninstalling nvidia-cuda-runtime-cu12-12.5.82:\n",
            "      Successfully uninstalled nvidia-cuda-runtime-cu12-12.5.82\n",
            "  Attempting uninstall: nvidia-cuda-nvrtc-cu12\n",
            "    Found existing installation: nvidia-cuda-nvrtc-cu12 12.5.82\n",
            "    Uninstalling nvidia-cuda-nvrtc-cu12-12.5.82:\n",
            "      Successfully uninstalled nvidia-cuda-nvrtc-cu12-12.5.82\n",
            "  Attempting uninstall: nvidia-cuda-cupti-cu12\n",
            "    Found existing installation: nvidia-cuda-cupti-cu12 12.5.82\n",
            "    Uninstalling nvidia-cuda-cupti-cu12-12.5.82:\n",
            "      Successfully uninstalled nvidia-cuda-cupti-cu12-12.5.82\n",
            "  Attempting uninstall: nvidia-cublas-cu12\n",
            "    Found existing installation: nvidia-cublas-cu12 12.5.3.2\n",
            "    Uninstalling nvidia-cublas-cu12-12.5.3.2:\n",
            "      Successfully uninstalled nvidia-cublas-cu12-12.5.3.2\n",
            "  Attempting uninstall: numpy\n",
            "    Found existing installation: numpy 2.0.2\n",
            "    Uninstalling numpy-2.0.2:\n",
            "      Successfully uninstalled numpy-2.0.2\n",
            "  Attempting uninstall: nvidia-cusparse-cu12\n",
            "    Found existing installation: nvidia-cusparse-cu12 12.5.1.3\n",
            "    Uninstalling nvidia-cusparse-cu12-12.5.1.3:\n",
            "      Successfully uninstalled nvidia-cusparse-cu12-12.5.1.3\n",
            "  Attempting uninstall: nvidia-cudnn-cu12\n",
            "    Found existing installation: nvidia-cudnn-cu12 9.3.0.75\n",
            "    Uninstalling nvidia-cudnn-cu12-9.3.0.75:\n",
            "      Successfully uninstalled nvidia-cudnn-cu12-9.3.0.75\n",
            "  Attempting uninstall: nvidia-cusolver-cu12\n",
            "    Found existing installation: nvidia-cusolver-cu12 11.6.3.83\n",
            "    Uninstalling nvidia-cusolver-cu12-11.6.3.83:\n",
            "      Successfully uninstalled nvidia-cusolver-cu12-11.6.3.83\n",
            "\u001b[31mERROR: pip's dependency resolver does not currently take into account all the packages that are installed. This behaviour is the source of the following dependency conflicts.\n",
            "thinc 8.3.6 requires numpy<3.0.0,>=2.0.0, but you have numpy 1.26.4 which is incompatible.\u001b[0m\u001b[31m\n",
            "\u001b[0mSuccessfully installed SimpleITK-2.5.0 TotalSegmentator-2.9.0 acvl-utils-0.2.5 argparse-1.4.0 batchgenerators-0.25.1 batchgeneratorsv2-0.3.0 connected-components-3d-3.23.0 dicom2nifti-2.6.1 dynamic-network-architectures-0.4.1 fft-conv-pytorch-1.2.0 imagecodecs-2025.3.30 linecache2-1.0.0 nnunetv2-2.6.2 numpy-1.26.4 nvidia-cublas-cu12-12.4.5.8 nvidia-cuda-cupti-cu12-12.4.127 nvidia-cuda-nvrtc-cu12-12.4.127 nvidia-cuda-runtime-cu12-12.4.127 nvidia-cudnn-cu12-9.1.0.70 nvidia-cufft-cu12-11.2.1.3 nvidia-curand-cu12-10.3.5.147 nvidia-cusolver-cu12-11.6.1.9 nvidia-cusparse-cu12-12.3.1.170 nvidia-nvjitlink-cu12-12.4.127 pydicom-3.0.1 python-gdcm-3.0.25 traceback2-1.4.0 unittest2-1.1.0 xvfbwrapper-0.2.13 yacs-0.1.8\n"
          ]
        },
        {
          "output_type": "display_data",
          "data": {
            "application/vnd.colab-display-data+json": {
              "pip_warning": {
                "packages": [
                  "argparse"
                ]
              },
              "id": "299125773a9d4465a7a209aea8b5c239"
            }
          },
          "metadata": {}
        }
      ],
      "source": [
        "!pip install TotalSegmentator"
      ]
    },
    {
      "cell_type": "code",
      "source": [
        "!pip install simpleitk pyradiomics xlsxwriter pandas openpyxl matplotlib"
      ],
      "metadata": {
        "id": "4FlnBMqRlVoa",
        "colab": {
          "base_uri": "https://localhost:8080/"
        },
        "outputId": "6f946730-e61f-4337-868b-03e919eb2d89",
        "collapsed": true
      },
      "execution_count": null,
      "outputs": [
        {
          "output_type": "stream",
          "name": "stdout",
          "text": [
            "Requirement already satisfied: simpleitk in /usr/local/lib/python3.11/dist-packages (2.5.0)\n",
            "Requirement already satisfied: pyradiomics in /usr/local/lib/python3.11/dist-packages (3.0.1)\n",
            "Requirement already satisfied: xlsxwriter in /usr/local/lib/python3.11/dist-packages (3.2.3)\n",
            "Requirement already satisfied: pandas in /usr/local/lib/python3.11/dist-packages (2.2.2)\n",
            "Requirement already satisfied: openpyxl in /usr/local/lib/python3.11/dist-packages (3.1.5)\n",
            "Requirement already satisfied: matplotlib in /usr/local/lib/python3.11/dist-packages (3.10.0)\n",
            "Requirement already satisfied: numpy>=1.9.2 in /usr/local/lib/python3.11/dist-packages (from pyradiomics) (1.26.4)\n",
            "Requirement already satisfied: PyWavelets>=0.4.0 in /usr/local/lib/python3.11/dist-packages (from pyradiomics) (1.8.0)\n",
            "Requirement already satisfied: pykwalify>=1.6.0 in /usr/local/lib/python3.11/dist-packages (from pyradiomics) (1.8.0)\n",
            "Requirement already satisfied: six>=1.10.0 in /usr/local/lib/python3.11/dist-packages (from pyradiomics) (1.17.0)\n",
            "Requirement already satisfied: python-dateutil>=2.8.2 in /usr/local/lib/python3.11/dist-packages (from pandas) (2.9.0.post0)\n",
            "Requirement already satisfied: pytz>=2020.1 in /usr/local/lib/python3.11/dist-packages (from pandas) (2025.2)\n",
            "Requirement already satisfied: tzdata>=2022.7 in /usr/local/lib/python3.11/dist-packages (from pandas) (2025.2)\n",
            "Requirement already satisfied: et-xmlfile in /usr/local/lib/python3.11/dist-packages (from openpyxl) (2.0.0)\n",
            "Requirement already satisfied: contourpy>=1.0.1 in /usr/local/lib/python3.11/dist-packages (from matplotlib) (1.3.2)\n",
            "Requirement already satisfied: cycler>=0.10 in /usr/local/lib/python3.11/dist-packages (from matplotlib) (0.12.1)\n",
            "Requirement already satisfied: fonttools>=4.22.0 in /usr/local/lib/python3.11/dist-packages (from matplotlib) (4.58.1)\n",
            "Requirement already satisfied: kiwisolver>=1.3.1 in /usr/local/lib/python3.11/dist-packages (from matplotlib) (1.4.8)\n",
            "Requirement already satisfied: packaging>=20.0 in /usr/local/lib/python3.11/dist-packages (from matplotlib) (24.2)\n",
            "Requirement already satisfied: pillow>=8 in /usr/local/lib/python3.11/dist-packages (from matplotlib) (11.2.1)\n",
            "Requirement already satisfied: pyparsing>=2.3.1 in /usr/local/lib/python3.11/dist-packages (from matplotlib) (3.2.3)\n",
            "Requirement already satisfied: docopt>=0.6.2 in /usr/local/lib/python3.11/dist-packages (from pykwalify>=1.6.0->pyradiomics) (0.6.2)\n",
            "Requirement already satisfied: ruamel.yaml>=0.16.0 in /usr/local/lib/python3.11/dist-packages (from pykwalify>=1.6.0->pyradiomics) (0.18.12)\n",
            "Requirement already satisfied: ruamel.yaml.clib>=0.2.7 in /usr/local/lib/python3.11/dist-packages (from ruamel.yaml>=0.16.0->pykwalify>=1.6.0->pyradiomics) (0.2.12)\n"
          ]
        }
      ]
    },
    {
      "cell_type": "code",
      "source": [
        "# --- import ---\n",
        "\n",
        "import numpy as np\n",
        "import pandas as pd\n",
        "import SimpleITK as sitk\n",
        "import matplotlib.pyplot as plt\n",
        "from totalsegmentator.python_api import totalsegmentator\n",
        "import os\n",
        "import logging\n",
        "from radiomics import featureextractor\n",
        "\n",
        "# --- Directory ---\n",
        "\n",
        "#input path for CT images folder\n",
        "CT_dir = \"/content/drive/MyDrive/CT/\"\n",
        "\n",
        "#output path for segmentation folder\n",
        "seg_dir = \"/content/drive/MyDrive/seg/\"\n",
        "\n",
        "#output path for dataframe associating organs with inferior and superior vertebrae\n",
        "output_csv = '/content/drive/MyDrive/organ_vertebrae_summary.csv'\n",
        "\n",
        "#output path for histogram of organ distribution folder\n",
        "histogram_dir = '/content/drive/MyDrive/histogram/'"
      ],
      "metadata": {
        "id": "ZxFMpCD0WIZq"
      },
      "execution_count": null,
      "outputs": []
    },
    {
      "cell_type": "code",
      "execution_count": null,
      "metadata": {
        "colab": {
          "base_uri": "https://localhost:8080/"
        },
        "id": "XP1Q92bbipHS",
        "outputId": "94f15a29-51bb-4fcf-d5ad-5c283ba4b8f5",
        "collapsed": true
      },
      "outputs": [
        {
          "output_type": "stream",
          "name": "stdout",
          "text": [
            "Segmenting /content/drive/MyDrive/CT/1.nii.gz -> /content/drive/MyDrive/seg/1...\n",
            "\n",
            "If you use this tool please cite: https://pubs.rsna.org/doi/10.1148/ryai.230024\n",
            "\n",
            "Generating rough segmentation for cropping...\n",
            "Resampling...\n",
            "  Resampled in 1.24s\n",
            "Predicting...\n"
          ]
        },
        {
          "output_type": "stream",
          "name": "stderr",
          "text": [
            "100%|██████████| 8/8 [00:01<00:00,  7.05it/s]\n"
          ]
        },
        {
          "output_type": "stream",
          "name": "stdout",
          "text": [
            "  Predicted in 12.43s\n",
            "Resampling...\n",
            "  cropping from (259, 259, 283) to (227, 175, 205)\n",
            "Resampling...\n",
            "  Resampled in 0.02s\n",
            "Predicting part 1 of 2 ...\n"
          ]
        },
        {
          "output_type": "stream",
          "name": "stderr",
          "text": [
            "100%|██████████| 8/8 [00:02<00:00,  3.02it/s]\n"
          ]
        },
        {
          "output_type": "stream",
          "name": "stdout",
          "text": [
            "Predicting part 2 of 2 ...\n"
          ]
        },
        {
          "output_type": "stream",
          "name": "stderr",
          "text": [
            "100%|██████████| 8/8 [00:00<00:00, 12.94it/s]\n"
          ]
        },
        {
          "output_type": "stream",
          "name": "stdout",
          "text": [
            "  Predicted in 30.85s\n",
            "Resampling...\n",
            "Saving segmentations...\n",
            "  Saved in 0.29s\n",
            "Segmenting /content/drive/MyDrive/CT/10.nii.gz -> /content/drive/MyDrive/seg/10...\n",
            "\n",
            "If you use this tool please cite: https://pubs.rsna.org/doi/10.1148/ryai.230024\n",
            "\n",
            "Generating rough segmentation for cropping...\n",
            "Resampling...\n",
            "  Resampled in 1.42s\n",
            "Predicting...\n"
          ]
        },
        {
          "output_type": "stream",
          "name": "stderr",
          "text": [
            "100%|██████████| 6/6 [00:00<00:00, 105.90it/s]\n"
          ]
        },
        {
          "output_type": "stream",
          "name": "stdout",
          "text": [
            "  Predicted in 13.60s\n",
            "Resampling...\n",
            "  cropping from (261, 182, 399) to (201, 162, 325)\n",
            "Resampling...\n",
            "  Resampled in 0.04s\n",
            "Predicting part 1 of 2 ...\n"
          ]
        },
        {
          "output_type": "stream",
          "name": "stderr",
          "text": [
            "100%|██████████| 12/12 [00:00<00:00, 13.00it/s]\n"
          ]
        },
        {
          "output_type": "stream",
          "name": "stdout",
          "text": [
            "Predicting part 2 of 2 ...\n"
          ]
        },
        {
          "output_type": "stream",
          "name": "stderr",
          "text": [
            "100%|██████████| 12/12 [00:00<00:00, 12.73it/s]\n"
          ]
        },
        {
          "output_type": "stream",
          "name": "stdout",
          "text": [
            "  Predicted in 37.49s\n",
            "Resampling...\n",
            "Saving segmentations...\n",
            "  Saved in 0.32s\n",
            "Segmenting /content/drive/MyDrive/CT/11.nii.gz -> /content/drive/MyDrive/seg/11...\n",
            "\n",
            "If you use this tool please cite: https://pubs.rsna.org/doi/10.1148/ryai.230024\n",
            "\n",
            "Generating rough segmentation for cropping...\n",
            "Resampling...\n",
            "  Resampled in 0.88s\n",
            "Predicting...\n"
          ]
        },
        {
          "output_type": "stream",
          "name": "stderr",
          "text": [
            "100%|██████████| 2/2 [00:00<00:00, 74.60it/s]\n"
          ]
        },
        {
          "output_type": "stream",
          "name": "stdout",
          "text": [
            "  Predicted in 9.13s\n",
            "Resampling...\n",
            "  cropping from (231, 231, 306) to (211, 175, 207)\n",
            "Resampling...\n",
            "  Resampled in 0.01s\n",
            "Predicting part 1 of 2 ...\n"
          ]
        },
        {
          "output_type": "stream",
          "name": "stderr",
          "text": [
            "100%|██████████| 8/8 [00:00<00:00, 15.11it/s]\n"
          ]
        },
        {
          "output_type": "stream",
          "name": "stdout",
          "text": [
            "Predicting part 2 of 2 ...\n"
          ]
        },
        {
          "output_type": "stream",
          "name": "stderr",
          "text": [
            "100%|██████████| 8/8 [00:00<00:00, 15.22it/s]\n"
          ]
        },
        {
          "output_type": "stream",
          "name": "stdout",
          "text": [
            "  Predicted in 28.05s\n",
            "Resampling...\n",
            "Saving segmentations...\n",
            "  Saved in 0.25s\n",
            "Segmenting /content/drive/MyDrive/CT/2.nii.gz -> /content/drive/MyDrive/seg/2...\n",
            "\n",
            "If you use this tool please cite: https://pubs.rsna.org/doi/10.1148/ryai.230024\n",
            "\n",
            "Generating rough segmentation for cropping...\n",
            "Resampling...\n",
            "  Resampled in 1.06s\n",
            "Predicting...\n"
          ]
        },
        {
          "output_type": "stream",
          "name": "stderr",
          "text": [
            "100%|██████████| 8/8 [00:00<00:00, 96.61it/s]\n"
          ]
        },
        {
          "output_type": "stream",
          "name": "stdout",
          "text": [
            "  Predicted in 9.67s\n",
            "Resampling...\n",
            "  cropping from (259, 259, 294) to (223, 179, 208)\n",
            "Resampling...\n",
            "  Resampled in 0.02s\n",
            "Predicting part 1 of 2 ...\n"
          ]
        },
        {
          "output_type": "stream",
          "name": "stderr",
          "text": [
            "100%|██████████| 8/8 [00:00<00:00, 15.63it/s]\n"
          ]
        },
        {
          "output_type": "stream",
          "name": "stdout",
          "text": [
            "Predicting part 2 of 2 ...\n"
          ]
        },
        {
          "output_type": "stream",
          "name": "stderr",
          "text": [
            "100%|██████████| 8/8 [00:00<00:00, 15.04it/s]\n"
          ]
        },
        {
          "output_type": "stream",
          "name": "stdout",
          "text": [
            "  Predicted in 29.50s\n",
            "Resampling...\n",
            "Saving segmentations...\n",
            "  Saved in 0.31s\n",
            "Segmenting /content/drive/MyDrive/CT/3.nii.gz -> /content/drive/MyDrive/seg/3...\n",
            "\n",
            "If you use this tool please cite: https://pubs.rsna.org/doi/10.1148/ryai.230024\n",
            "\n",
            "Generating rough segmentation for cropping...\n",
            "Resampling...\n",
            "  Resampled in 1.62s\n",
            "Predicting...\n"
          ]
        },
        {
          "output_type": "stream",
          "name": "stderr",
          "text": [
            "100%|██████████| 8/8 [00:00<00:00, 99.70it/s]\n"
          ]
        },
        {
          "output_type": "stream",
          "name": "stdout",
          "text": [
            "  Predicted in 9.78s\n",
            "Resampling...\n",
            "  cropping from (309, 309, 317) to (217, 188, 226)\n",
            "Resampling...\n",
            "  Resampled in 0.02s\n",
            "Predicting part 1 of 2 ...\n"
          ]
        },
        {
          "output_type": "stream",
          "name": "stderr",
          "text": [
            "100%|██████████| 8/8 [00:00<00:00, 15.73it/s]\n"
          ]
        },
        {
          "output_type": "stream",
          "name": "stdout",
          "text": [
            "Predicting part 2 of 2 ...\n"
          ]
        },
        {
          "output_type": "stream",
          "name": "stderr",
          "text": [
            "100%|██████████| 8/8 [00:00<00:00, 15.63it/s]\n"
          ]
        },
        {
          "output_type": "stream",
          "name": "stdout",
          "text": [
            "  Predicted in 29.95s\n",
            "Resampling...\n",
            "Saving segmentations...\n",
            "  Saved in 0.40s\n",
            "Segmenting /content/drive/MyDrive/CT/4.nii.gz -> /content/drive/MyDrive/seg/4...\n",
            "\n",
            "If you use this tool please cite: https://pubs.rsna.org/doi/10.1148/ryai.230024\n",
            "\n",
            "Generating rough segmentation for cropping...\n",
            "Resampling...\n",
            "  Resampled in 1.32s\n",
            "Predicting...\n"
          ]
        },
        {
          "output_type": "stream",
          "name": "stderr",
          "text": [
            "100%|██████████| 3/3 [00:00<00:00, 88.07it/s]\n"
          ]
        },
        {
          "output_type": "stream",
          "name": "stdout",
          "text": [
            "  Predicted in 10.17s\n",
            "Resampling...\n",
            "  cropping from (243, 243, 409) to (207, 183, 318)\n",
            "Resampling...\n",
            "  Resampled in 0.03s\n",
            "Predicting part 1 of 2 ...\n"
          ]
        },
        {
          "output_type": "stream",
          "name": "stderr",
          "text": [
            "100%|██████████| 12/12 [00:00<00:00, 12.76it/s]\n"
          ]
        },
        {
          "output_type": "stream",
          "name": "stdout",
          "text": [
            "Predicting part 2 of 2 ...\n"
          ]
        },
        {
          "output_type": "stream",
          "name": "stderr",
          "text": [
            "100%|██████████| 12/12 [00:00<00:00, 12.47it/s]\n"
          ]
        },
        {
          "output_type": "stream",
          "name": "stdout",
          "text": [
            "  Predicted in 35.54s\n",
            "Resampling...\n",
            "Saving segmentations...\n",
            "  Saved in 0.38s\n",
            "Segmenting /content/drive/MyDrive/CT/5.nii.gz -> /content/drive/MyDrive/seg/5...\n",
            "\n",
            "If you use this tool please cite: https://pubs.rsna.org/doi/10.1148/ryai.230024\n",
            "\n",
            "Generating rough segmentation for cropping...\n",
            "Resampling...\n",
            "  Resampled in 1.84s\n",
            "Predicting...\n"
          ]
        },
        {
          "output_type": "stream",
          "name": "stderr",
          "text": [
            "100%|██████████| 4/4 [00:00<00:00, 90.47it/s]\n"
          ]
        },
        {
          "output_type": "stream",
          "name": "stdout",
          "text": [
            "  Predicted in 9.39s\n",
            "Resampling...\n",
            "  cropping from (220, 363, 317) to (220, 203, 226)\n",
            "Resampling...\n",
            "  Resampled in 0.02s\n",
            "Predicting part 1 of 2 ...\n"
          ]
        },
        {
          "output_type": "stream",
          "name": "stderr",
          "text": [
            "100%|██████████| 8/8 [00:00<00:00, 14.41it/s]\n"
          ]
        },
        {
          "output_type": "stream",
          "name": "stdout",
          "text": [
            "Predicting part 2 of 2 ...\n"
          ]
        },
        {
          "output_type": "stream",
          "name": "stderr",
          "text": [
            "100%|██████████| 8/8 [00:00<00:00, 15.67it/s]\n"
          ]
        },
        {
          "output_type": "stream",
          "name": "stdout",
          "text": [
            "  Predicted in 32.12s\n",
            "Resampling...\n",
            "Saving segmentations...\n",
            "  Saved in 0.34s\n",
            "Segmenting /content/drive/MyDrive/CT/6.nii.gz -> /content/drive/MyDrive/seg/6...\n",
            "\n",
            "If you use this tool please cite: https://pubs.rsna.org/doi/10.1148/ryai.230024\n",
            "\n",
            "Generating rough segmentation for cropping...\n",
            "Resampling...\n",
            "  Resampled in 1.10s\n",
            "Predicting...\n"
          ]
        },
        {
          "output_type": "stream",
          "name": "stderr",
          "text": [
            "100%|██████████| 8/8 [00:00<00:00, 99.57it/s]\n"
          ]
        },
        {
          "output_type": "stream",
          "name": "stdout",
          "text": [
            "  Predicted in 9.57s\n",
            "Resampling...\n",
            "  cropping from (271, 271, 266) to (219, 167, 191)\n",
            "Resampling...\n",
            "  Resampled in 0.01s\n",
            "Predicting part 1 of 2 ...\n"
          ]
        },
        {
          "output_type": "stream",
          "name": "stderr",
          "text": [
            "100%|██████████| 8/8 [00:00<00:00, 15.48it/s]\n"
          ]
        },
        {
          "output_type": "stream",
          "name": "stdout",
          "text": [
            "Predicting part 2 of 2 ...\n"
          ]
        },
        {
          "output_type": "stream",
          "name": "stderr",
          "text": [
            "100%|██████████| 8/8 [00:00<00:00, 15.45it/s]\n"
          ]
        },
        {
          "output_type": "stream",
          "name": "stdout",
          "text": [
            "  Predicted in 27.63s\n",
            "Resampling...\n",
            "Saving segmentations...\n",
            "  Saved in 0.30s\n",
            "Segmenting /content/drive/MyDrive/CT/7.nii.gz -> /content/drive/MyDrive/seg/7...\n",
            "\n",
            "If you use this tool please cite: https://pubs.rsna.org/doi/10.1148/ryai.230024\n",
            "\n",
            "Generating rough segmentation for cropping...\n",
            "Resampling...\n",
            "  Resampled in 1.22s\n",
            "Predicting...\n"
          ]
        },
        {
          "output_type": "stream",
          "name": "stderr",
          "text": [
            "100%|██████████| 4/4 [00:00<00:00, 101.25it/s]\n"
          ]
        },
        {
          "output_type": "stream",
          "name": "stdout",
          "text": [
            "  Predicted in 9.05s\n",
            "Resampling...\n",
            "  cropping from (260, 205, 311) to (200, 169, 221)\n",
            "Resampling...\n",
            "  Resampled in 4.17s\n",
            "Predicting part 1 of 2 ...\n"
          ]
        },
        {
          "output_type": "stream",
          "name": "stderr",
          "text": [
            "100%|██████████| 8/8 [00:00<00:00, 15.44it/s]\n"
          ]
        },
        {
          "output_type": "stream",
          "name": "stdout",
          "text": [
            "Predicting part 2 of 2 ...\n"
          ]
        },
        {
          "output_type": "stream",
          "name": "stderr",
          "text": [
            "100%|██████████| 8/8 [00:00<00:00, 14.89it/s]\n"
          ]
        },
        {
          "output_type": "stream",
          "name": "stdout",
          "text": [
            "  Predicted in 28.17s\n",
            "Resampling...\n",
            "Saving segmentations...\n",
            "  Saved in 0.28s\n",
            "Segmenting /content/drive/MyDrive/CT/8.nii.gz -> /content/drive/MyDrive/seg/8...\n",
            "\n",
            "If you use this tool please cite: https://pubs.rsna.org/doi/10.1148/ryai.230024\n",
            "\n",
            "Generating rough segmentation for cropping...\n",
            "Resampling...\n",
            "  Resampled in 0.73s\n",
            "Predicting...\n"
          ]
        },
        {
          "output_type": "stream",
          "name": "stderr",
          "text": [
            "100%|██████████| 2/2 [00:00<00:00, 81.92it/s]\n"
          ]
        },
        {
          "output_type": "stream",
          "name": "stdout",
          "text": [
            "  Predicted in 9.46s\n",
            "Resampling...\n",
            "  cropping from (221, 221, 263) to (197, 173, 181)\n",
            "Resampling...\n",
            "  Resampled in 0.01s\n",
            "Predicting part 1 of 2 ...\n"
          ]
        },
        {
          "output_type": "stream",
          "name": "stderr",
          "text": [
            "100%|██████████| 8/8 [00:00<00:00, 15.13it/s]\n"
          ]
        },
        {
          "output_type": "stream",
          "name": "stdout",
          "text": [
            "Predicting part 2 of 2 ...\n"
          ]
        },
        {
          "output_type": "stream",
          "name": "stderr",
          "text": [
            "100%|██████████| 8/8 [00:00<00:00, 15.03it/s]\n"
          ]
        },
        {
          "output_type": "stream",
          "name": "stdout",
          "text": [
            "  Predicted in 30.13s\n",
            "Resampling...\n",
            "Saving segmentations...\n",
            "  Saved in 0.22s\n",
            "Segmenting /content/drive/MyDrive/CT/9.nii.gz -> /content/drive/MyDrive/seg/9...\n",
            "\n",
            "If you use this tool please cite: https://pubs.rsna.org/doi/10.1148/ryai.230024\n",
            "\n",
            "Generating rough segmentation for cropping...\n",
            "Resampling...\n",
            "  Resampled in 1.11s\n",
            "Predicting...\n"
          ]
        },
        {
          "output_type": "stream",
          "name": "stderr",
          "text": [
            "100%|██████████| 8/8 [00:00<00:00, 99.24it/s]\n"
          ]
        },
        {
          "output_type": "stream",
          "name": "stdout",
          "text": [
            "  Predicted in 8.82s\n",
            "Resampling...\n",
            "  cropping from (259, 259, 310) to (223, 187, 220)\n",
            "Resampling...\n",
            "  Resampled in 0.02s\n",
            "Predicting part 1 of 2 ...\n"
          ]
        },
        {
          "output_type": "stream",
          "name": "stderr",
          "text": [
            "100%|██████████| 8/8 [00:00<00:00, 15.39it/s]\n"
          ]
        },
        {
          "output_type": "stream",
          "name": "stdout",
          "text": [
            "Predicting part 2 of 2 ...\n"
          ]
        },
        {
          "output_type": "stream",
          "name": "stderr",
          "text": [
            "100%|██████████| 8/8 [00:00<00:00, 14.32it/s]\n"
          ]
        },
        {
          "output_type": "stream",
          "name": "stdout",
          "text": [
            "  Predicted in 30.18s\n",
            "Resampling...\n",
            "Saving segmentations...\n",
            "  Saved in 0.30s\n",
            "✅ Segmentation for all scans completed.\n"
          ]
        }
      ],
      "source": [
        "#  --- Segmentation ---\n",
        "\n",
        "def segment_all_scans(input_dir, output_base):\n",
        "    # Automatically detect .nii.gz scan files\n",
        "    scan_files = sorted([f for f in os.listdir(input_dir) if f.endswith('.nii.gz')])\n",
        "\n",
        "    for scan_file in scan_files:\n",
        "        scan_id = os.path.splitext(os.path.splitext(scan_file)[0])[0]  # strip .nii.gz\n",
        "        input_image = os.path.join(input_dir, scan_file)\n",
        "        output_dir = os.path.join(output_base, scan_id)\n",
        "\n",
        "        print(f\"Segmenting {input_image} -> {output_dir}...\")\n",
        "\n",
        "        totalsegmentator(\n",
        "            input=input_image,\n",
        "            output=output_dir,\n",
        "            task='total',\n",
        "            fast=False,\n",
        "            ml=True,\n",
        "            roi_subset=[\n",
        "                'spleen', 'stomach', 'esophagus', 'liver',\n",
        "                'vertebrae_S1', 'vertebrae_L5', 'vertebrae_L4', 'vertebrae_L3', 'vertebrae_L2', 'vertebrae_L1',\n",
        "                'vertebrae_T12', 'vertebrae_T11', 'vertebrae_T10', 'vertebrae_T9', 'vertebrae_T8', 'vertebrae_T7',\n",
        "                'vertebrae_T6', 'vertebrae_T5', 'vertebrae_T4', 'vertebrae_T3', 'vertebrae_T2', 'vertebrae_T1',\n",
        "                'vertebrae_C7', 'vertebrae_C6', 'vertebrae_C5', 'vertebrae_C4', 'vertebrae_C3', 'vertebrae_C2', 'vertebrae_C1'\n",
        "            ]\n",
        "        )\n",
        "\n",
        "    print(\"✅ Segmentation for all scans completed.\")\n",
        "# Example usage\n",
        "segment_all_scans(CT_dir, seg_dir)"
      ]
    },
    {
      "cell_type": "code",
      "source": [
        "# --- anatomical labels ---\n",
        "LABELS = {\n",
        "    'Spleen': 1, 'Stomach': 6, 'Esophagus': 15, 'Liver': 5,\n",
        "    'Vertebrae_S1': 26, 'Vertebrae_L5': 27, 'Vertebrae_L4': 28, 'Vertebrae_L3': 29, 'Vertebrae_L2': 30, 'Vertebrae_L1': 31,\n",
        "    'Vertebrae_T12': 32, 'Vertebrae_T11': 33, 'Vertebrae_T10': 34, 'Vertebrae_T9': 35, 'Vertebrae_T8': 36, 'Vertebrae_T7': 37,\n",
        "    'Vertebrae_T6': 38, 'Vertebrae_T5': 39, 'Vertebrae_T4': 40, 'Vertebrae_T3': 41, 'Vertebrae_T2': 42, 'Vertebrae_T1': 43,\n",
        "    'Vertebrae_C7': 44, 'Vertebrae_C6': 45, 'Vertebrae_C5': 46, 'Vertebrae_C4': 47, 'Vertebrae_C3': 48, 'Vertebrae_C2': 49, 'Vertebrae_C1': 50,\n",
        "}\n",
        "vertebrae_labels = [name for name in LABELS if name.startswith(\"Vertebrae\")]\n",
        "\n",
        "# --- helper functions ---\n",
        "def compute_physical_z_com(image, label):\n",
        "    stats = sitk.LabelShapeStatisticsImageFilter()\n",
        "    stats.Execute(image)\n",
        "    return stats.GetCentroid(label)[2] if stats.HasLabel(label) else None\n",
        "\n",
        "def get_slice_index_from_physical_z(physical_z, image):\n",
        "    origin = image.GetOrigin()\n",
        "    spacing = image.GetSpacing()\n",
        "    direction = image.GetDirection()\n",
        "    return int(round((physical_z - origin[2]) / (spacing[2] * direction[8])))\n",
        "\n",
        "def find_first_last_slice(seg_array, label_value):\n",
        "    z_indices = np.where(np.any(seg_array == label_value, axis=(1, 2)))[0]\n",
        "    return (int(z_indices[0]), int(z_indices[-1])) if len(z_indices) else (None, None)\n",
        "\n",
        "# --- main processing loop ---\n",
        "summary = []\n",
        "\n",
        "scan_files = sorted([f for f in os.listdir(seg_dir) if f.endswith('.nii')])\n",
        "\n",
        "for scan_file in scan_files:\n",
        "    i = os.path.splitext(scan_file)[0]  # Extract scan ID\n",
        "    seg_path = os.path.join(seg_dir, scan_file)\n",
        "    seg_img = sitk.ReadImage(seg_path)\n",
        "    seg_arr = sitk.GetArrayFromImage(seg_img)\n",
        "    total_slices = seg_arr.shape[0]\n",
        "\n",
        "    # Compute vertebrae COM slice indices\n",
        "    vertebrae_slices = {}\n",
        "    for name in vertebrae_labels:\n",
        "        label = LABELS[name]\n",
        "        binary_img = sitk.BinaryThreshold(seg_img, label, label, insideValue=1, outsideValue=0)\n",
        "        z_physical = compute_physical_z_com(binary_img, 1)\n",
        "        if z_physical is not None:\n",
        "            vertebrae_slices[name] = get_slice_index_from_physical_z(z_physical, seg_img)\n",
        "\n",
        "    # Map organ slice bounds to closest vertebrae\n",
        "    organ_data = {}\n",
        "    for organ in ['Stomach', 'Spleen', 'Liver', 'Esophagus']:\n",
        "        first, last = find_first_last_slice(seg_arr, LABELS[organ])\n",
        "        organ_data[f'{organ.lower()}_first_slice'] = first\n",
        "        organ_data[f'{organ.lower()}_last_slice'] = last\n",
        "\n",
        "        if first is not None and first > 1:\n",
        "            organ_data[f'{organ.lower()}_bottom_vertebra'] = min(vertebrae_slices, key=lambda k: abs(vertebrae_slices[k] - first))\n",
        "        else:\n",
        "            organ_data[f'{organ.lower()}_bottom_vertebra'] = None\n",
        "\n",
        "        if last is not None and last < total_slices - 2:\n",
        "            organ_data[f'{organ.lower()}_top_vertebra'] = min(vertebrae_slices, key=lambda k: abs(vertebrae_slices[k] - last))\n",
        "        else:\n",
        "            organ_data[f'{organ.lower()}_top_vertebra'] = None\n",
        "\n",
        "    summary.append({'scan name': i, **organ_data})\n",
        "\n",
        "# --- Save results ---\n",
        "summary_df = pd.DataFrame(summary)\n",
        "summary_df.to_csv(output_csv, index=False)\n",
        "print(f\"✅ Vertebrae-organ proximity summary saved to:\\n{output_csv}\")\n"
      ],
      "metadata": {
        "colab": {
          "base_uri": "https://localhost:8080/"
        },
        "id": "5GytMDdtxe-M",
        "outputId": "88a41700-0585-4a58-a989-556f828fe1da"
      },
      "execution_count": null,
      "outputs": [
        {
          "output_type": "stream",
          "name": "stdout",
          "text": [
            "✅ Vertebrae-organ proximity summary saved to:\n",
            "/content/drive/MyDrive/organ_vertebrae_summary.csv\n"
          ]
        }
      ]
    },
    {
      "cell_type": "code",
      "source": [
        "# --- Plotting function ---\n",
        "def plot_vertebrae_distribution(organ, df, ordered_vertebrae, output_dir):\n",
        "    bottom_col = f'{organ}_bottom_vertebra'\n",
        "    top_col = f'{organ}_top_vertebra'\n",
        "\n",
        "    # Count vertebrae appearance\n",
        "    bottom_counts = df[bottom_col].dropna().value_counts().reindex(ordered_vertebrae, fill_value=0)\n",
        "    top_counts = df[top_col].dropna().value_counts().reindex(ordered_vertebrae, fill_value=0)\n",
        "\n",
        "    # Plot\n",
        "    x = range(len(ordered_vertebrae))\n",
        "    width = 0.4\n",
        "\n",
        "    plt.figure(figsize=(12, 5))\n",
        "    plt.bar(x, bottom_counts, width=width, label='Inferior (Bottom) Vertebrae', align='center')\n",
        "    plt.bar([xi + width for xi in x], top_counts, width=width, label='Superior (Top) Vertebrae', align='center')\n",
        "\n",
        "    plt.xticks([xi + width / 2 for xi in x], ordered_vertebrae, rotation=90)\n",
        "    plt.xlabel('Vertebra')\n",
        "    plt.ylabel('Frequency')\n",
        "    plt.title(f'{organ.capitalize()} - Vertebral Association')\n",
        "    plt.legend()\n",
        "    plt.tight_layout()\n",
        "    plt.show()\n",
        "\n",
        "    # Save to file\n",
        "    output_path = os.path.join(output_dir, f'{organ}_vertebrae_distribution.png')\n",
        "    plt.savefig(output_path, dpi=300)\n",
        "    plt.close()\n",
        "\n",
        "# Load and plot + save\n",
        "df = pd.read_csv(output_csv)\n",
        "for organ in ['stomach', 'spleen', 'liver', 'esophagus']:\n",
        "    plot_vertebrae_distribution(organ, df, vertebrae_labels, histogram_dir)\n",
        "\n",
        "print(\"✅ All histograms saved as PNGs.\")"
      ],
      "metadata": {
        "colab": {
          "base_uri": "https://localhost:8080/"
        },
        "id": "cEhyM3Ohrrwk",
        "outputId": "a835b922-771b-448e-9f3c-f49d84997577"
      },
      "execution_count": null,
      "outputs": [
        {
          "output_type": "stream",
          "name": "stdout",
          "text": [
            "✅ All histograms saved as PNGs.\n"
          ]
        }
      ]
    },
    {
      "cell_type": "code",
      "source": [
        "\"EXTRACT FEATURES NOT REQUIRED TO RUN PARESOPHAGEAL VERTEBRAE CODE\"\n",
        "# Suppress PyRadiomics warnings\n",
        "logging.getLogger(\"radiomics\").setLevel(logging.ERROR)\n",
        "\n",
        "def extract_features(image_path, mask_path):\n",
        "    \"\"\"Extract shape and first-order features for all non-zero labels.\"\"\"\n",
        "    image = sitk.ReadImage(image_path)\n",
        "    mask = sitk.ReadImage(mask_path)\n",
        "    mask.CopyInformation(image)\n",
        "\n",
        "    extractor = featureextractor.RadiomicsFeatureExtractor()\n",
        "    extractor.disableAllFeatures()\n",
        "    extractor.enableFeatureClassByName('shape')\n",
        "    extractor.enableFeatureClassByName('firstorder')\n",
        "\n",
        "    label_array = sitk.GetArrayFromImage(mask)\n",
        "    labels = set(label_array.flatten()) - {0}  # Exclude background\n",
        "\n",
        "    records = []\n",
        "    for label in labels:\n",
        "        try:\n",
        "            features = extractor.execute(image, mask, label=int(label))\n",
        "        except Exception as e:\n",
        "            print(f\"Label {label} failed in {os.path.basename(image_path)}: {e}\")\n",
        "            continue\n",
        "\n",
        "        for key, value in features.items():\n",
        "            if key.startswith('original_shape_'):\n",
        "                feature_type = 'shape'\n",
        "                feature_name = key.replace('original_shape_', '')\n",
        "            elif key.startswith('original_firstorder_'):\n",
        "                feature_type = 'intensity'\n",
        "                feature_name = key.replace('original_firstorder_', '')\n",
        "            else:\n",
        "                continue\n",
        "\n",
        "            records.append({\n",
        "                'label': label,\n",
        "                'feature_type': feature_type,\n",
        "                'feature_name': feature_name,\n",
        "                'value': value\n",
        "            })\n",
        "\n",
        "    return pd.DataFrame(records)\n",
        "\n",
        "# Paths\n",
        "ct_dir = '/content/drive/MyDrive/CT/'\n",
        "seg_dir = '/content/drive/MyDrive/seg/'\n",
        "output_excel = '/content/drive/MyDrive/radiomics_features_all_scans.xlsx'\n",
        "\n",
        "# Write features to Excel\n",
        "with pd.ExcelWriter(output_excel, engine='xlsxwriter') as writer:\n",
        "    for i in range(1, 12):\n",
        "        ct_path = os.path.join(ct_dir, f'{i}.nii.gz')\n",
        "        seg_path = os.path.join(seg_dir, f'{i}.nii')\n",
        "        print(f'Processing Scan {i}...')\n",
        "        try:\n",
        "            df = extract_features(ct_path, seg_path)\n",
        "            df.to_excel(writer, sheet_name=f'Scan_{i}', index=False)\n",
        "        except Exception as e:\n",
        "            print(f'Error processing Scan {i}: {e}')\n",
        "\n",
        "print(f\"✅ All features saved to: {output_excel}\""
      ],
      "metadata": {
        "id": "Hl4R0wJfQS0e"
      },
      "execution_count": null,
      "outputs": []
    }
  ],
  "metadata": {
    "colab": {
      "gpuType": "T4",
      "provenance": [],
      "mount_file_id": "1h9sXOI7jqHHVhfzMkP_U2u3o6fj35wuo",
      "authorship_tag": "ABX9TyOdKuW0pfGjbujefT7xj6MF",
      "include_colab_link": true
    },
    "kernelspec": {
      "display_name": "Python 3",
      "name": "python3"
    },
    "language_info": {
      "name": "python"
    },
    "accelerator": "GPU"
  },
  "nbformat": 4,
  "nbformat_minor": 0
}